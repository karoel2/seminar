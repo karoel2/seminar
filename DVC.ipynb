{
 "cells": [
  {
   "cell_type": "code",
   "execution_count": 3,
   "id": "037ead69",
   "metadata": {},
   "outputs": [],
   "source": [
    "# dvc init"
   ]
  },
  {
   "cell_type": "code",
   "execution_count": null,
   "id": "f82444a3",
   "metadata": {},
   "outputs": [],
   "source": [
    "# git status\n",
    "# Changes to be committed:\n",
    "#         new file:   .dvc/.gitignore\n",
    "#         new file:   .dvc/config\n",
    "#         ...\n",
    "# git commit -m \"Initialize DVC\""
   ]
  },
  {
   "cell_type": "code",
   "execution_count": 2,
   "id": "ed79b1a2",
   "metadata": {},
   "outputs": [],
   "source": [
    "# dvc add data/img.jpg"
   ]
  },
  {
   "cell_type": "code",
   "execution_count": 4,
   "id": "f7049ec5",
   "metadata": {},
   "outputs": [],
   "source": [
    "# git add data/img.jpg.dvc data/.gitignore\n",
    "# git commit -m \"Add raw data\""
   ]
  },
  {
   "cell_type": "code",
   "execution_count": null,
   "id": "cdb42e12",
   "metadata": {},
   "outputs": [],
   "source": [
    "# dvc remote add -d myremote gdrive://0AIac4JZqHhKmUk9PDA/dvcstore\n",
    "# dvc push  # Assuming there's data to push"
   ]
  },
  {
   "cell_type": "code",
   "execution_count": null,
   "id": "598c7398",
   "metadata": {},
   "outputs": [],
   "source": [
    "# dvc pull\n",
    "# dvc push"
   ]
  }
 ],
 "metadata": {
  "kernelspec": {
   "display_name": "Python 3 (ipykernel)",
   "language": "python",
   "name": "python3"
  },
  "language_info": {
   "codemirror_mode": {
    "name": "ipython",
    "version": 3
   },
   "file_extension": ".py",
   "mimetype": "text/x-python",
   "name": "python",
   "nbconvert_exporter": "python",
   "pygments_lexer": "ipython3",
   "version": "3.10.2"
  }
 },
 "nbformat": 4,
 "nbformat_minor": 5
}
